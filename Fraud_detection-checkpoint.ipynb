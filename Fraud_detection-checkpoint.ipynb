{
 "cells": [
  {
   "cell_type": "code",
   "execution_count": null,
   "id": "5b432205",
   "metadata": {
    "vscode": {
     "languageId": "plaintext"
    }
   },
   "outputs": [],
   "source": [
    "import pandas as pd\n",
    "import numpy as np\n",
    "from sklearn.model_selection import train_test_split, GridSearchCV\n",
    "from sklearn.preprocessing import LabelEncoder, StandardScaler\n",
    "from sklearn.ensemble import RandomForestClassifier, IsolationForest\n",
    "from sklearn.metrics import roc_auc_score\n",
    "from imblearn.over_sampling import SMOTE"
   ]
  },
  {
   "cell_type": "code",
   "execution_count": null,
   "id": "de84ea5a",
   "metadata": {
    "vscode": {
     "languageId": "plaintext"
    }
   },
   "outputs": [],
   "source": []
  },
  {
   "cell_type": "code",
   "execution_count": null,
   "id": "bee106e7",
   "metadata": {
    "vscode": {
     "languageId": "plaintext"
    }
   },
   "outputs": [],
   "source": [
    "df = pd.read_csv('../data/insurance_claims.csv')\n",
    "df.replace('?', np.nan, inplace=True)\n",
    "\n",
    "for col in ['collision_type', 'property_damage', 'police_report_available', 'authorities_contacted']:\n",
    "    df[col] = df[col].fillna('missing')\n",
    "\n",
    "df.drop(columns=['policy_number', 'policy_bind_date', 'policy_csl','insured_zip','incident_date','incident_location', \n",
    "                 'policy_state','incident_city', 'insured_relationship', 'auto_make', 'auto_model', 'auto_year'], inplace=True)\n",
    "\n",
    "y = LabelEncoder().fit_transform(df['fraud_reported'])\n",
    "df.drop('fraud_reported', axis=1, inplace=True)\n",
    "\n",
    "X = pd.get_dummies(df, drop_first=True)\n",
    "scaler = StandardScaler()\n",
    "X_scaled = scaler.fit_transform(X)\n"
   ]
  },
  {
   "cell_type": "code",
   "execution_count": null,
   "id": "5f80679b",
   "metadata": {
    "vscode": {
     "languageId": "plaintext"
    }
   },
   "outputs": [],
   "source": [
    "X_train, X_test, y_train, y_test = train_test_split(X_scaled, y, test_size=0.25, random_state=42, stratify=y)\n",
    "sm = SMOTE(random_state=42)\n",
    "X_train_bal, y_train_bal = sm.fit_resample(X_train, y_train)\n",
    "\n",
    "\n",
    "param_grid = {'n_estimators': [100], 'max_depth': [5, 8], 'min_samples_split': [2, 5]}\n",
    "grid = GridSearchCV(RandomForestClassifier(random_state=42), param_grid, cv=3, scoring='f1', n_jobs=-1)\n",
    "grid.fit(X_train_bal, y_train_bal)\n",
    "\n",
    "best_rf = grid.best_estimator_\n",
    "y_probs = best_rf.predict_proba(X_test)[:, 1]\n"
   ]
  },
  {
   "cell_type": "code",
   "execution_count": null,
   "id": "ecd738d1",
   "metadata": {
    "vscode": {
     "languageId": "plaintext"
    }
   },
   "outputs": [],
   "source": [
    "iso = IsolationForest(contamination=0.1, random_state=42)\n",
    "iso.fit(X_train_bal)\n",
    "anomaly_scores = -iso.decision_function(X_test)\n",
    "\n",
    "combined_risk = (y_probs + anomaly_scores) / 2\n",
    "risk_df = pd.DataFrame({\n",
    "    'fraud_probability': y_probs,\n",
    "    'anomaly_score': anomaly_scores,\n",
    "    'combined_risk_score': combined_risk,\n",
    "    'actual_label': y_test\n",
    "})\n",
    "\n",
    "top_n = int(0.10 * len(risk_df))\n",
    "risk_df_sorted = risk_df.sort_values('combined_risk_score', ascending=False).copy()\n",
    "risk_df_sorted['flagged'] = 0\n",
    "risk_df_sorted.iloc[:top_n, risk_df_sorted.columns.get_loc('flagged')] = 1\n"
   ]
  },
  {
   "cell_type": "code",
   "execution_count": null,
   "id": "29b3e385",
   "metadata": {
    "vscode": {
     "languageId": "plaintext"
    }
   },
   "outputs": [],
   "source": [
    "risk_df_sorted.to_csv('../data/risk_scores.csv', index=False)\n",
    "with open('../data/auc.txt', 'w') as f:\n",
    "    f.write(str(roc_auc_score(y_test, y_probs)))\n",
    "\n",
    "print(\"✅ Model trained and scores saved.\")"
   ]
  }
 ],
 "metadata": {
  "language_info": {
   "name": "python"
  }
 },
 "nbformat": 4,
 "nbformat_minor": 5
}
